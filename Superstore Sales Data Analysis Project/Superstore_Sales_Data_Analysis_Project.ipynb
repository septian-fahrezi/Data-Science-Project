{
 "cells": [
  {
   "cell_type": "code",
   "execution_count": null,
   "id": "0c24f762-fd54-410f-8ca2-c2a5ab1468a3",
   "metadata": {},
   "outputs": [],
   "source": [
    "import pandas as pd\n",
    "import numpy as np\n",
    "import matplotlib.pyplot as plt\n",
    "import seaborn as sns"
   ]
  },
  {
   "cell_type": "code",
   "execution_count": null,
   "id": "4253bd4d-265d-4dcd-ac0e-a4e6b9314183",
   "metadata": {},
   "outputs": [],
   "source": [
    "df = pd.read_csv(\"Superstore.csv\", encoding=\"ISO-8859-1\")"
   ]
  },
  {
   "cell_type": "code",
   "execution_count": null,
   "id": "d8edbce0-8ec3-4d1b-9edd-c45610c96698",
   "metadata": {},
   "outputs": [],
   "source": [
    "df.head()"
   ]
  },
  {
   "cell_type": "code",
   "execution_count": null,
   "id": "109e40c5-0386-40a7-a588-7357fea32628",
   "metadata": {},
   "outputs": [],
   "source": [
    "df.info()"
   ]
  },
  {
   "cell_type": "code",
   "execution_count": null,
   "id": "f999a55b-275a-473b-b70b-8eccda79e938",
   "metadata": {},
   "outputs": [],
   "source": [
    "# filling null values\n",
    "df[\"Postal Code\"] = df[\"Postal Code\"].fillna(0)\n",
    "df[\"Postal Code\"] = df[\"Postal Code\"].astype(int)\n",
    "df.info()"
   ]
  },
  {
   "cell_type": "code",
   "execution_count": null,
   "id": "97d5865a-6410-4641-9bac-c20fc20f32f7",
   "metadata": {},
   "outputs": [],
   "source": [
    "if df.duplicated().sum() > 0: #\n",
    "    print(\"Duplicate exists\")\n",
    "else:\n",
    "    print(\"Doesn't Exist\")"
   ]
  },
  {
   "cell_type": "code",
   "execution_count": null,
   "id": "18ae3335-c991-4e69-9f04-291503be5e34",
   "metadata": {},
   "outputs": [],
   "source": [
    "df.head(100)"
   ]
  },
  {
   "cell_type": "code",
   "execution_count": null,
   "id": "818fcce9-f2cf-435f-b2f1-58d8a5919243",
   "metadata": {},
   "outputs": [],
   "source": [
    "#types of customers\n",
    "types_of_customers = df['Segment'].unique()\n",
    "print (types_of_customers)"
   ]
  },
  {
   "cell_type": "code",
   "execution_count": null,
   "id": "1e7d657e-6deb-4b3c-8654-7acd63b3cbd9",
   "metadata": {},
   "outputs": [],
   "source": [
    "number_of_customers = df['Segment'].value_counts().reset_index()\n",
    "number_of_customers = number_of_customers.rename(columns={'Segment' : 'Type Of Customer'})\n",
    "print (number_of_customers)"
   ]
  },
  {
   "cell_type": "code",
   "execution_count": null,
   "id": "a8cde2d8-01f9-4dc5-9e35-2f58b7b095f3",
   "metadata": {},
   "outputs": [],
   "source": [
    "plt.pie(number_of_customers['count'], labels=number_of_customers['Type Of Customer'], autopct='%1.1f%%')"
   ]
  },
  {
   "cell_type": "code",
   "execution_count": null,
   "id": "84cf0c53-c695-4acb-bd2e-2c03cffb2d74",
   "metadata": {},
   "outputs": [],
   "source": [
    "sales_per_segment = df.groupby('Segment')['Sales'].sum().reset_index()\n",
    "sales_per_segment = sales_per_segment.rename(columns={'Segment' : 'Type Of Customer', 'Sales' : 'Total Sales'})\n",
    "\n",
    "print(sales_per_segment)\n",
    "\n",
    "plt.bar(sales_per_segment['Type Of Customer'], sales_per_segment['Total Sales'])"
   ]
  },
  {
   "cell_type": "code",
   "execution_count": null,
   "id": "16b4ca2d-e83d-41d1-b55c-d74a734c820e",
   "metadata": {},
   "outputs": [],
   "source": [
    "plt.pie(sales_per_segment['Total Sales'], labels=sales_per_segment['Type Of Customer'], autopct='%1.1f%%')"
   ]
  },
  {
   "cell_type": "code",
   "execution_count": null,
   "id": "16b48788-e2c4-4c81-80a3-719de8c1a8a7",
   "metadata": {},
   "outputs": [],
   "source": [
    "df.head(3)"
   ]
  },
  {
   "cell_type": "code",
   "execution_count": null,
   "id": "24557b2a-b711-4d6c-b14e-324dd7ef6c69",
   "metadata": {},
   "outputs": [],
   "source": [
    "customers_order_frequency = df.groupby(['Customer ID', 'Customer Name', 'Segment'])['Order ID'].count().reset_index()\n",
    "customers_order_frequency.rename(columns={'Order ID' : 'Total Orders'}, inplace = True)\n",
    "repeat_customers = customers_order_frequency[customers_order_frequency['Total Orders'] >= 1]\n",
    "repeat_customers_sorted = repeat_customers.sort_values(by='Total Orders', ascending = False)\n",
    "print(repeat_customers_sorted.head(12).reset_index(drop=True))"
   ]
  },
  {
   "cell_type": "code",
   "execution_count": null,
   "id": "dc00c833-a741-41b3-958b-3400b1406e27",
   "metadata": {},
   "outputs": [],
   "source": [
    "customer_sales = df.groupby(['Customer ID', 'Customer Name', 'Segment'])['Sales'].sum().reset_index()\n",
    "top_spenders = customer_sales.sort_values(by='Sales', ascending=False)\n",
    "print(top_spenders.head(12).reset_index(drop=True))"
   ]
  },
  {
   "cell_type": "code",
   "execution_count": null,
   "id": "ccd304f8-982d-45f2-a4de-cda1fd555ab3",
   "metadata": {},
   "outputs": [],
   "source": [
    "types_of_customers = df['Ship Mode'].unique()\n",
    "print(types_of_customers)"
   ]
  },
  {
   "cell_type": "code",
   "execution_count": null,
   "id": "3b265eef-d3d2-454d-9477-a665bc48b759",
   "metadata": {},
   "outputs": [],
   "source": [
    "df.head(10)"
   ]
  },
  {
   "cell_type": "code",
   "execution_count": null,
   "id": "8d2abb15-d81a-44bf-9ad3-460b37192fba",
   "metadata": {},
   "outputs": [],
   "source": [
    "shipping_model = df['Ship Mode'].value_counts().reset_index()\n",
    "shipping_model = shipping_model.rename(columns={'index':'Use Frequency', 'Ship Mode':'Mode Of Shipment', 'count' : 'Use Frequency'})\n",
    "print(shipping_model)"
   ]
  },
  {
   "cell_type": "code",
   "execution_count": null,
   "id": "39e1062e-6fe7-4a51-9201-1b732355f295",
   "metadata": {},
   "outputs": [],
   "source": [
    "plt.pie(shipping_model['Use Frequency'], labels=shipping_model['Mode Of Shipment'], autopct='%1.1f%%')"
   ]
  },
  {
   "cell_type": "code",
   "execution_count": null,
   "id": "4ab849c9-2fbb-4fa9-937a-c8d306f26eba",
   "metadata": {},
   "outputs": [],
   "source": [
    "state = df['State'].value_counts().reset_index()\n",
    "state = state.rename(columns={'index':'State', 'State':'Number Of Customers'})\n",
    "print(state.head(20))"
   ]
  },
  {
   "cell_type": "code",
   "execution_count": null,
   "id": "6400d51e-8b2c-40ce-9bd4-b2e868e9c4da",
   "metadata": {},
   "outputs": [],
   "source": [
    "city = df['City'].value_counts().reset_index()\n",
    "print(city.head(25))"
   ]
  },
  {
   "cell_type": "code",
   "execution_count": null,
   "id": "5895071e-e42d-42d1-827b-68ec815b7df0",
   "metadata": {},
   "outputs": [],
   "source": [
    "state_sales = df.groupby(['State'])['Sales'].sum().reset_index()\n",
    "top_sales = state_sales.sort_values(by='Sales', ascending=False)\n",
    "print(top_sales.head(10).reset_index(drop=True))"
   ]
  },
  {
   "cell_type": "code",
   "execution_count": null,
   "id": "ee95e2fa-6295-49e3-9cc8-ca7247ffdff5",
   "metadata": {},
   "outputs": [],
   "source": [
    "city_sales = df.groupby(['City'])['Sales'].sum().reset_index()\n",
    "top_city_sales = city_sales.sort_values (by='Sales', ascending=False)\n",
    "print(top_city_sales.head(10).reset_index(drop=True))"
   ]
  },
  {
   "cell_type": "code",
   "execution_count": null,
   "id": "27ff77cd-e314-40fd-8dac-facf98404aab",
   "metadata": {},
   "outputs": [],
   "source": [
    "state_city_sales = df.groupby(['State', 'City'])['Sales'].sum().reset_index()\n",
    "print(state_city_sales.head(20))"
   ]
  },
  {
   "cell_type": "code",
   "execution_count": null,
   "id": "8c80d56a-0580-4e89-8d98-0491a8e799b7",
   "metadata": {},
   "outputs": [],
   "source": [
    "products = df['Category'].unique()\n",
    "print(products)"
   ]
  },
  {
   "cell_type": "code",
   "execution_count": null,
   "id": "6b77a860-52c7-4c78-b979-7adbac9fafdd",
   "metadata": {},
   "outputs": [],
   "source": [
    "df.head(100)"
   ]
  },
  {
   "cell_type": "code",
   "execution_count": null,
   "id": "7b3f9fde-0a04-4bf4-9c94-bb92eb1a0bb9",
   "metadata": {},
   "outputs": [],
   "source": [
    "product_subcategory = df['Sub-Category'].unique()\n",
    "print(product_subcategory)"
   ]
  },
  {
   "cell_type": "code",
   "execution_count": null,
   "id": "96a2445e-664f-42e7-8f4e-2e74bb335a0a",
   "metadata": {},
   "outputs": [],
   "source": [
    "subcategory_count = df.groupby('Category')['Sub-Category'].nunique().reset_index()\n",
    "subcategory_count = subcategory_count.sort_values(by='Sub-Category', ascending = False)\n",
    "print(subcategory_count)"
   ]
  },
  {
   "cell_type": "code",
   "execution_count": null,
   "id": "6db35678-5897-4961-901d-6171fa01a466",
   "metadata": {},
   "outputs": [],
   "source": [
    "subcategory_count_sales = df.groupby(['Category', 'Sub-Category'])['Sales'].sum().reset_index()\n",
    "subcategory_count_sales = subcategory_count_sales.sort_values(by='Sales', ascending = False)\n",
    "print(subcategory_count_sales)"
   ]
  },
  {
   "cell_type": "code",
   "execution_count": null,
   "id": "ae2f07dc-ccad-45e2-84b9-28e089ce7372",
   "metadata": {},
   "outputs": [],
   "source": [
    "product_category = df.groupby(['Category'])['Sales'].sum().reset_index()\n",
    "top_product_category = product_category.sort_values(by='Sales', ascending = False)\n",
    "print(top_product_category.reset_index(drop=True))"
   ]
  },
  {
   "cell_type": "code",
   "execution_count": null,
   "id": "16714a40-69d5-4436-a1d0-76577bcc2d53",
   "metadata": {},
   "outputs": [],
   "source": [
    "plt.pie(top_product_category['Sales'], labels=top_product_category['Category'], autopct='%1.1f%%')"
   ]
  },
  {
   "cell_type": "code",
   "execution_count": null,
   "id": "98b67554-9767-40ef-8035-fb2fbaa83d5c",
   "metadata": {},
   "outputs": [],
   "source": [
    "subcategory_count_sales = subcategory_count_sales.sort_values(by='Sales', ascending = True)\n",
    "plt.barh(subcategory_count_sales['Sub-Category'], subcategory_count_sales['Sales'])"
   ]
  },
  {
   "cell_type": "code",
   "execution_count": null,
   "id": "1aeeb947-55a3-4889-8286-6ff973797d69",
   "metadata": {},
   "outputs": [],
   "source": [
    "# Convert 'Order Date' to datetime\n",
    "df['Order Date'] = pd.to_datetime(df['Order Date'], format='%m/%d/%Y', errors='coerce')\n",
    "\n",
    "# Group by year and sum sales\n",
    "yearly_sales = df.groupby(df['Order Date'].dt.year)['Sales'].sum()\n",
    "\n",
    "# Reset the index and rename columns\n",
    "yearly_sales = yearly_sales.reset_index()\n",
    "yearly_sales = yearly_sales.rename(columns={'Order Date': 'Year', 'Sales': 'Total Sales'})\n",
    "print(yearly_sales)"
   ]
  },
  {
   "cell_type": "code",
   "execution_count": null,
   "id": "34aca10d-6863-4449-bd9a-6fd23a7d7cf4",
   "metadata": {},
   "outputs": [],
   "source": [
    "plt.bar(yearly_sales['Year'], yearly_sales['Total Sales'])"
   ]
  },
  {
   "cell_type": "code",
   "execution_count": null,
   "id": "bc3b4eba-79ca-4da2-9dcd-9af7864dd232",
   "metadata": {},
   "outputs": [],
   "source": [
    "df.head(10)"
   ]
  },
  {
   "cell_type": "code",
   "execution_count": null,
   "id": "56e895fa-2bff-4bf8-9c74-4d5527659a57",
   "metadata": {},
   "outputs": [],
   "source": [
    "plt.plot(yearly_sales['Year'], yearly_sales['Total Sales'], marker='o', linestyle='-')"
   ]
  },
  {
   "cell_type": "code",
   "execution_count": null,
   "id": "04376b2a-7454-48cd-b6d4-62e6e5934fde",
   "metadata": {},
   "outputs": [],
   "source": [
    "df['Order Date'] = pd.to_datetime(df['Order Date'], dayfirst=True)\n",
    "year_sales = df[df['Order Date'].dt.year == 2018]\n",
    "quarterly_sales = year_sales.resample('QE', on='Order Date')['Sales'].sum()\n",
    "quarterly_sales = quarterly_sales.reset_index()\n",
    "quarterly_sales = quarterly_sales.rename(columns = {'Order Date': 'Quarter', 'Sales' : 'Total Sales'})\n",
    "print(quarterly_sales)"
   ]
  },
  {
   "cell_type": "code",
   "execution_count": null,
   "id": "0557615c-afd6-44d7-a5af-ab72844e9b1b",
   "metadata": {},
   "outputs": [],
   "source": [
    "plt.plot(quarterly_sales['Quarter'], quarterly_sales['Total Sales'], marker = 'o', linestyle = '--')\n",
    "plt.tight_layout()\n",
    "plt.xticks(rotation=75)\n",
    "plt.show()"
   ]
  },
  {
   "cell_type": "code",
   "execution_count": null,
   "id": "124f0eb6-6661-42e2-b572-b9add5bc6286",
   "metadata": {},
   "outputs": [],
   "source": [
    "df['Order Date'] = pd.to_datetime(df['Order Date'], dayfirst = True)\n",
    "yearly_sales = df[df['Order Date'].dt.year == 2018]\n",
    "monthly_sales = yearly_sales.resample('ME', on = 'Order Date')['Sales'].sum()\n",
    "monthly_sales = monthly_sales.reset_index()\n",
    "monthly_sales = monthly_sales.rename(columns={'Order Date':'Month', 'Sales' : 'Total Monthly Sales'})\n",
    "\n",
    "print (monthly_sales)"
   ]
  },
  {
   "cell_type": "code",
   "execution_count": null,
   "id": "991f4287-5488-4063-830e-1e8ae969ae9a",
   "metadata": {},
   "outputs": [],
   "source": [
    "plt.plot(monthly_sales['Month'], monthly_sales['Total Monthly Sales'], marker = 'o', linestyle = '--')"
   ]
  },
  {
   "cell_type": "code",
   "execution_count": null,
   "id": "dbb715ac-4ca1-42b8-9d46-5cf861c3179f",
   "metadata": {},
   "outputs": [],
   "source": []
  },
  {
   "cell_type": "code",
   "execution_count": null,
   "id": "b9f566f9-5e2a-4462-a4fc-9b97ca928168",
   "metadata": {},
   "outputs": [],
   "source": []
  }
 ],
 "metadata": {
  "kernelspec": {
   "display_name": "Python 3 (ipykernel)",
   "language": "python",
   "name": "python3"
  },
  "language_info": {
   "codemirror_mode": {
    "name": "ipython",
    "version": 3
   },
   "file_extension": ".py",
   "mimetype": "text/x-python",
   "name": "python",
   "nbconvert_exporter": "python",
   "pygments_lexer": "ipython3",
   "version": "3.12.4"
  }
 },
 "nbformat": 4,
 "nbformat_minor": 5
}
